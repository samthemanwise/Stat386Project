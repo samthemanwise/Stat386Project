{
 "cells": [
  {
   "cell_type": "code",
   "execution_count": null,
   "metadata": {},
   "outputs": [],
   "source": [
    "# Renaming 'vorp' in data frames so they can join\n",
    "clean_reg22_23 = clean_reg22_23.rename(columns={'VORP': 'vorp_reg'})\n",
    "\n",
    "clean_playoff22_23 = clean_playoff22_23.rename(columns={'VORP': 'vorp_post'})\n",
    "\n",
    "# changing name of player column in raptor to join\n",
    "raptor_df = raptor_df.rename(columns={'player_name': 'Player', 'Tm': 'team'})\n",
    "\n",
    "# Performing the joins\n",
    "result = pd.merge(raptor_df, clean_reg22_23, on='Player', how='inner')\n",
    "result = pd.merge(result, clean_playoff22_23, on='Player', how='inner')"
   ]
  }
 ],
 "metadata": {
  "language_info": {
   "name": "python"
  }
 },
 "nbformat": 4,
 "nbformat_minor": 2
}
